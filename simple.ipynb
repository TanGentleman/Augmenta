{
 "cells": [
  {
   "cell_type": "code",
   "execution_count": null,
   "metadata": {},
   "outputs": [],
   "source": [
    "def is_output_valid(output_object: dict) -> bool:\n",
    "    \"\"\"\n",
    "    Checks if the output is valid.\n",
    "    \"\"\"\n",
    "    structure_passed = bool(\n",
    "        \"index\" in output_object and \"meetsCriteria\" in output_object)\n",
    "    if structure_passed:\n",
    "        print(\"Meets criteria:\", output_object[\"meetsCriteria\"])\n",
    "    return structure_passed"
   ]
  }
 ],
 "metadata": {
  "language_info": {
   "name": "python"
  }
 },
 "nbformat": 4,
 "nbformat_minor": 2
}

{
 "cells": [
  {
   "cell_type": "code",
   "execution_count": null,
   "metadata": {},
   "outputs": [],
   "source": [
    "from langchain_community.document_loaders import WebBaseLoader\n",
    "from langchain.text_splitter import RecursiveCharacterTextSplitter\n",
    "from langchain_together.embeddings import TogetherEmbeddings\n",
    "from langchain_community.vectorstores import FAISS\n",
    "from langchain_community.llms import Ollama\n",
    "from langchain_community.llms import Together\n",
    "from langchain_core.prompts import ChatPromptTemplate\n",
    "from langchain.callbacks.manager import CallbackManager\n",
    "from langchain.callbacks.streaming_stdout import StreamingStdOutCallbackHandler\n",
    "from langchain.chains.combine_documents import create_stuff_documents_chain\n",
    "from langchain.chains import create_retrieval_chain\n",
    "from langchain_community.document_loaders import PyPDFLoader"
   ]
  },
  {
   "cell_type": "code",
   "execution_count": null,
   "metadata": {},
   "outputs": [],
   "source": [
    "together_embeddings = TogetherEmbeddings(model=\"togethercomputer/m2-bert-80M-2k-retrieval\")\n",
    "mistral = Ollama(model=\"mistral\", callback_manager=CallbackManager([StreamingStdOutCallbackHandler()]))\n",
    "prompt = ChatPromptTemplate.from_template(\"\"\"Answer the following question based only on the provided context:\n",
    "\n",
    "<context>\n",
    "{context}\n",
    "</context>\n",
    "\n",
    "Question: {input}\"\"\")\n",
    "document_chain = create_stuff_documents_chain(mistral, prompt)"
   ]
  },
  {
   "cell_type": "code",
   "execution_count": null,
   "metadata": {},
   "outputs": [],
   "source": [
    "def get_pdf_pages(filepath):\n",
    "    loader = PyPDFLoader(filepath)\n",
    "    pages = loader.load_and_split()\n",
    "    if not pages:\n",
    "        print(\"Failed to load PDF.\")\n",
    "        return None\n",
    "    return pages\n",
    "\n",
    "def get_documents(doc_type, input):\n",
    "    assert doc_type in [\"text\", \"url\", \"file\"]\n",
    "    if doc_type == \"text\":\n",
    "        documents = [input]\n",
    "    elif doc_type == \"url\":\n",
    "        loader = WebBaseLoader()\n",
    "        documents = loader.load_documents()\n",
    "    elif doc_type == \"file\":\n",
    "        documents = get_pdf_pages(input)\n",
    "    return documents\n",
    "\n",
    "def set_text_splitter(chunk_size=None, chunk_overlap=None):\n",
    "    chunk_size = chunk_size or 4000\n",
    "    chunk_overlap = chunk_overlap or 200\n",
    "    return RecursiveCharacterTextSplitter(\n",
    "        chunk_size=chunk_size,\n",
    "        chunk_overlap=chunk_overlap,\n",
    "    )\n",
    "\n",
    "def split_docs(docs, text_splitter):\n",
    "    documents = text_splitter.split_documents(docs)\n",
    "    if not documents:\n",
    "        print('No documents found')\n",
    "        return None\n",
    "    print(f'Found {len(documents)} documents')\n",
    "    return documents\n",
    "\n",
    "def get_vector(documents, embeddings=together_embeddings):\n",
    "    vector = FAISS.from_documents(documents, embeddings)\n",
    "    return vector\n",
    "\n",
    "def get_retrieval_chain(vector, document_chain):\n",
    "    retriever = vector.as_retriever()\n",
    "    retrieval_chain = create_retrieval_chain(retriever, document_chain)\n",
    "    return retrieval_chain\n",
    "\n",
    "def get_response(retrieval_chain, query):\n",
    "    response = retrieval_chain.invoke({\"input\": query})\n",
    "    return response[\"answer\"]"
   ]
  },
  {
   "cell_type": "code",
   "execution_count": null,
   "metadata": {},
   "outputs": [],
   "source": [
    "from langchain.text_splitter import RecursiveCharacterTextSplitter\n",
    "text_splitter = RecursiveCharacterTextSplitter(chunk_size=3, chunk_overlap=0)"
   ]
  },
  {
   "cell_type": "code",
   "execution_count": null,
   "metadata": {},
   "outputs": [],
   "source": [
    "text_splitter.create_documents(['hello'])"
   ]
  },
  {
   "cell_type": "code",
   "execution_count": null,
   "metadata": {},
   "outputs": [],
   "source": [
    "from helpers import documents_from_text, split_docs\n",
    "\n",
    "documents = documents_from_text('hello there', text_splitter)"
   ]
  },
  {
   "cell_type": "code",
   "execution_count": null,
   "metadata": {},
   "outputs": [],
   "source": [
    "documents"
   ]
  },
  {
   "cell_type": "code",
   "execution_count": null,
   "metadata": {},
   "outputs": [],
   "source": [
    "text_splitter.create_documents(['hello', 'b', 'there', 'a'])"
   ]
  },
  {
   "cell_type": "code",
   "execution_count": null,
   "metadata": {},
   "outputs": [],
   "source": [
    "new_text_splitter = RecursiveCharacterTextSplitter(chunk_size=1, chunk_overlap=0)"
   ]
  },
  {
   "cell_type": "code",
   "execution_count": null,
   "metadata": {},
   "outputs": [],
   "source": [
    "split_docs(documents, new_text_splitter)"
   ]
  },
  {
   "cell_type": "code",
   "execution_count": null,
   "metadata": {},
   "outputs": [],
   "source": []
  }
 ],
 "metadata": {
  "kernelspec": {
   "display_name": ".venv",
   "language": "python",
   "name": "python3"
  },
  "language_info": {
   "codemirror_mode": {
    "name": "ipython",
    "version": 3
   },
   "file_extension": ".py",
   "mimetype": "text/x-python",
   "name": "python",
   "nbconvert_exporter": "python",
   "pygments_lexer": "ipython3",
   "version": "3.11.7"
  }
 },
 "nbformat": 4,
 "nbformat_minor": 2
}
